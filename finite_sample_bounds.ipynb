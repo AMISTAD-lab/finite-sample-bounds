{
  "cells": [
    {
      "cell_type": "markdown",
      "metadata": {
        "id": "i8rYSvBM4kO4"
      },
      "source": [
        "# Finite-Sample Bounds for Two-Distribution Hypotheis Tests\n",
        "Experiments for the paper \"Finite-Sample Bounds for Two-Distribution Hypotheis Tests\", accepted to DSAA 2023."
      ]
    },
    {
      "cell_type": "markdown",
      "metadata": {
        "id": "DGaqxthD-5Kn"
      },
      "source": [
        "## Imports"
      ]
    },
    {
      "cell_type": "markdown",
      "metadata": {
        "id": "crZPGnzj09ID"
      },
      "source": [
        "We'll start by importing the necessary libraries."
      ]
    },
    {
      "cell_type": "code",
      "execution_count": null,
      "metadata": {
        "id": "1X707gYJ-4md"
      },
      "outputs": [],
      "source": [
        "import numpy as np\n",
        "import copy\n",
        "import scipy\n",
        "from scipy import special\n",
        "import scipy.stats\n",
        "from scipy.optimize import minimize\n",
        "import matplotlib.pyplot as plt\n",
        "from random import shuffle\n",
        "import math\n",
        "from mpmath import *\n",
        "from scipy.stats import norm"
      ]
    },
    {
      "cell_type": "markdown",
      "metadata": {
        "id": "lkIoqBGk-7vO"
      },
      "source": [
        "## General Compute Bound function"
      ]
    },
    {
      "cell_type": "markdown",
      "metadata": {
        "id": "xgsMT6_SDzq-"
      },
      "source": [
        "Here we define a general function used to compute a bound using Corollary 1 in the paper. When using Corollary 1, you'll want to determine what `n`, `mg_hat_x`, `script_x`, and `p_x` are for your use case.\n",
        "\n"
      ]
    },
    {
      "cell_type": "code",
      "execution_count": null,
      "metadata": {
        "id": "4jDFI73i4ebE"
      },
      "outputs": [],
      "source": [
        "def compute_bound(n, mg_hat_x, script_x, p_x, delta=0.01, should_print=True):\n",
        "  \"\"\"\n",
        "  Computes the bound using Corollary 1.\n",
        "  n: Total number of samples\n",
        "  mg_hat_x: Number of samples x_s where g(x_s) > g(x)\n",
        "  script_x: Size of sample space (e.g. number of traps, datasets)\n",
        "  p_x: The probability of selecting x from the space of possible instances.\n",
        "  delta: The delta parameter\n",
        "  should_print: Whether the function should print out values used in the calculation\n",
        "  \"\"\"\n",
        "\n",
        "  fg_hat_x = mg_hat_x / n\n",
        "  nu_hat_x = n/mg_hat_x\n",
        "  z = np.abs(scipy.stats.norm.ppf(delta/2))\n",
        "  bound = script_x * (1 + np.log(script_x)) * p_x * (1/nu_hat_x + z/(2 * np.sqrt(n))) * (1 - delta) + delta\n",
        "\n",
        "  if should_print:\n",
        "    print(f'sample size: {n}')\n",
        "    print(f'mg_hat_x: {mg_hat_x}')\n",
        "    print(f'fg_hat_x: {fg_hat_x}')\n",
        "    print(f'nu_hat_x: {nu_hat_x}')\n",
        "    print(f'p_x: {p_x}')\n",
        "    print(f'\\nPr(SC(X) > SC(x)) <= {bound}\\n')\n",
        "\n",
        "  return bound"
      ]
    },
    {
      "cell_type": "markdown",
      "metadata": {
        "id": "7eSVLXp_-mRQ"
      },
      "source": [
        "## Intention Perception in Artificial Agents"
      ]
    },
    {
      "cell_type": "markdown",
      "metadata": {
        "id": "4cprPgM5_S3M"
      },
      "source": [
        "Let's see how the bound can be used to detect whether a gopher trap is likely to be designed as opposed to being random configuration of trap pieces. In the paper [The Gopher's Gambit](https://par.nsf.gov/servlets/purl/10315004), a gopher is equipped with an intention-pereption algorithm that helps it determine whether a trap is designed or random. In particular, prior work calculated the probability $Pr(SC(X) \\geq SC(x))$ that a trap $x$ was designed by using combinatorics. By using `compute_bound`, we give a bound on $Pr(SC(X) \\geq SC(x))$ using a finite sample instead."
      ]
    },
    {
      "cell_type": "markdown",
      "metadata": {
        "id": "vhR8taAT4lHs"
      },
      "source": [
        "### Setup"
      ]
    },
    {
      "cell_type": "markdown",
      "metadata": {
        "id": "uSFd4rHa9ndk"
      },
      "source": [
        "We'll start by defining some constants that we'll use in the experiment."
      ]
    },
    {
      "cell_type": "markdown",
      "metadata": {
        "id": "EwxaLsPk18w7"
      },
      "source": [
        "`NUM_TRAPS_GREATER_OR_EQUAL_RATIO[i]` is the number of traps with $g(x)$ values greater than or equal to `GS[i]`. `NUM_TRAPS_GREATER_OR_EQUAL_RATIO` was precomputed in Table 4 on Page 11 of this [paper](https://par.nsf.gov/servlets/purl/10315004). Typically, this distribution won't be available, as we would otherwise simply use the actual value of $M_g(x)$ instead of the estimate. However, in our case, we simply use this knowledge as a tool to more quickly generate samples."
      ]
    },
    {
      "cell_type": "code",
      "execution_count": null,
      "metadata": {
        "id": "QwVbv8W3-lgk"
      },
      "outputs": [],
      "source": [
        "NUM_TRAPS_GREATER_OR_EQUAL_RATIO = [427929800129788411, 354394707075243198, 123453353582343198, 102193295525793198, 101346901331553198, 101327843325852198, 101327577622082748, 18317428758242748, 12289201862932377, 12103878714006177, 1272268411781292, 689654429107497, 689623309037907, 677046035997297, 41696845623225, 18559182512862, 919349539299, 616034679885, 615255422625, 239164711182, 6417454230, 3925431153, 1459677645, 26456355, 22595625, 17067672, 10561401, 4297158, 26730, 3]\n",
        "NUM_TRAPS_GREATER_OR_EQUAL_RATIO = np.array(NUM_TRAPS_GREATER_OR_EQUAL_RATIO)\n",
        "GS = [0/9, 1/9, 1/8, 1/7, 1/6, 1/5, 2/9, 1/4, 2/7, 1/3, 3/8, 2/5, 3/7, 4/9, 1/2, 5/9, 4/7, 3/5, 5/8, 2/3, 5/7, 3/4, 7/9, 4/5, 5/6, 6/7, 7/8, 8/9, 9/9, 10/9]"
      ]
    },
    {
      "cell_type": "markdown",
      "metadata": {
        "id": "nQpkbq4r3UFx"
      },
      "source": [
        "`NUM_POSS_TRAPS` is the total number of possible gopher traps."
      ]
    },
    {
      "cell_type": "code",
      "execution_count": null,
      "metadata": {
        "id": "UY_JeGES3Sbk"
      },
      "outputs": [],
      "source": [
        "NUM_POSS_TRAPS = NUM_TRAPS_GREATER_OR_EQUAL_RATIO[0]"
      ]
    },
    {
      "cell_type": "markdown",
      "metadata": {
        "id": "GbKuutFB3eFX"
      },
      "source": [
        "Let's now calculate number of traps with each exact ratio. `NUM_TRAPS_WITH_RATIO[i]` is the number of traps with $g(x)$ values equal to `GS[i]`."
      ]
    },
    {
      "cell_type": "code",
      "execution_count": null,
      "metadata": {
        "colab": {
          "base_uri": "https://localhost:8080/"
        },
        "id": "37NOPI7q3bwZ",
        "outputId": "85d5aa85-d761-4d83-e39f-459880417c89"
      },
      "outputs": [
        {
          "output_type": "stream",
          "name": "stdout",
          "text": [
            "NUM_TRAPS_WITH_RATIO: \n",
            "[ 73535093054545213 230941353492900000  21260058056550000\n",
            "    846394194240000     19058005701000       265703769450\n",
            "  83010148863840000   6028226895310371    185323148926200\n",
            "  10831610302224885    582613982673795        31120069590\n",
            "     12577273040610    635349190374072     23137663110363\n",
            "     17639832973563       303314859414          779257260\n",
            "       376090711443       232747256952         2492023077\n",
            "         2465753508         1433221290            3860730\n",
            "            5527953            6506271            6264243\n",
            "            4270428              26727                  3]\n"
          ]
        }
      ],
      "source": [
        "NUM_TRAPS_WITH_RATIO = np.copy(NUM_TRAPS_GREATER_OR_EQUAL_RATIO)\n",
        "for i in range(len(NUM_TRAPS_GREATER_OR_EQUAL_RATIO) - 1):\n",
        "  NUM_TRAPS_WITH_RATIO[i] = NUM_TRAPS_GREATER_OR_EQUAL_RATIO[i] - NUM_TRAPS_GREATER_OR_EQUAL_RATIO[i + 1]\n",
        "print(f'NUM_TRAPS_WITH_RATIO: \\n{NUM_TRAPS_WITH_RATIO}')"
      ]
    },
    {
      "cell_type": "markdown",
      "metadata": {
        "id": "uz0uavlf3k9u"
      },
      "source": [
        "Finally, we calculate the probability of selecting a trap with a given $g(x)$ value. This will help us sample according to the true distribution."
      ]
    },
    {
      "cell_type": "code",
      "execution_count": null,
      "metadata": {
        "colab": {
          "base_uri": "https://localhost:8080/"
        },
        "id": "YQWdDeOH3kcY",
        "outputId": "e0d818f7-3555-43f7-b577-23f01fbd4630"
      },
      "outputs": [
        {
          "output_type": "stream",
          "name": "stdout",
          "text": [
            "PROBS: \n",
            "[1.71839150e-01 5.39671118e-01 4.96811815e-02 1.97788094e-03\n",
            " 4.45353553e-05 6.20905039e-07 1.93980762e-01 1.40869528e-02\n",
            " 4.33069043e-04 2.53116523e-02 1.36147093e-03 7.27223708e-08\n",
            " 2.93909726e-05 1.48470424e-03 5.40688288e-05 4.12213241e-05\n",
            " 7.08795834e-07 1.82099321e-09 8.78860765e-07 5.43891210e-07\n",
            " 5.82343898e-09 5.76205141e-09 3.34919720e-09 9.02187695e-12\n",
            " 1.29178968e-11 1.52040615e-11 1.46384828e-11 9.97927230e-12\n",
            " 6.24565057e-14 7.01049564e-18]\n"
          ]
        }
      ],
      "source": [
        "PROBS = NUM_TRAPS_WITH_RATIO/NUM_POSS_TRAPS\n",
        "print(f'PROBS: \\n{PROBS}')"
      ]
    },
    {
      "cell_type": "markdown",
      "metadata": {
        "id": "ZNlV-_vE4o5q"
      },
      "source": [
        "### Functions"
      ]
    },
    {
      "cell_type": "markdown",
      "metadata": {
        "id": "svroLnSt9tfs"
      },
      "source": [
        "`get_mg_gopher` gets a sample of `n` elements from the overall space of elements and returns the $\\hat{M_g}(x)$, the number of these elements with $g(x)$ values greater than or equal to $x$, the trap being evaluated."
      ]
    },
    {
      "cell_type": "code",
      "execution_count": null,
      "metadata": {
        "id": "t_nPoN0B7VIw"
      },
      "outputs": [],
      "source": [
        "def get_mg_gopher(n, gs_idx, modified=False, multisample=False):\n",
        "  \"\"\"\n",
        "  n: Total number of samples\n",
        "  gs_idx: The index in the GS array (see Setup section) that corresponds to g(x),\n",
        "    the number of coherent connections per nonempty cell in this configuration\n",
        "  modified: whether we should set mg_x to be 1 if mg_x was calculated to be 0\n",
        "    (to avoid division by 0 error)\n",
        "  multisample: whether we should take multiple samples to reduce the RAM required to\n",
        "    store the sample array. If True, n must be a multiple of 1,000,000.\n",
        "  \"\"\"\n",
        "  BATCH_SIZE = 1000000\n",
        "  MAX_RAM_SIZE = 500000000\n",
        "\n",
        "  if multisample and n % BATCH_SIZE != 0:\n",
        "    print(f\"WARNING: multisample is True but n is not a multiple of {BATCH_SIZE}.\")\n",
        "\n",
        "  # Automatically turn on multisample if over MAX_RAM_SIZE\n",
        "  if n > MAX_RAM_SIZE:\n",
        "    if n % BATCH_SIZE == 0:\n",
        "      multisample = True\n",
        "    else:\n",
        "      print(f\"WARNING: n > {MAX_RAM_SIZE} but n is not a multiple of {BATCH_SIZE}.\")\n",
        "\n",
        "  if multisample:\n",
        "    mg_hat_x = multisample_gopher(n, gs_idx)\n",
        "  else:\n",
        "    mg_hat_x = sample_gopher(n, gs_idx)\n",
        "\n",
        "  if modified and mg_hat_x == 0:\n",
        "    mg_hat_x = 1\n",
        "\n",
        "  return mg_hat_x"
      ]
    },
    {
      "cell_type": "markdown",
      "metadata": {
        "id": "PTg5O67F_eqX"
      },
      "source": [
        "`sample_gopher` is a helper function which generates the actual sample of `n` traps and computes the number of these traps $x_s$ where $g(x_s) > g(x)$.  `multisample_gopher` is the same as `sample_gopher` but does so in batches so that we can avoid running out of memory for large sample sizes."
      ]
    },
    {
      "cell_type": "code",
      "execution_count": null,
      "metadata": {
        "id": "XrzkcnOZ9P9C"
      },
      "outputs": [],
      "source": [
        "def sample_gopher(n, gs_idx):\n",
        "  \"\"\"\n",
        "  Generate a sample of n traps, and determine the number of these traps whose\n",
        "   g(x) values are greater than or equal to that of x.\n",
        "  n: The number of traps to sample\n",
        "  gs_idx: The index in the GS array that corresponds to the g(x) value of the trap\n",
        "    we're analyzing.\n",
        "  \"\"\"\n",
        "  sample = np.random.choice(len(NUM_TRAPS_WITH_RATIO), n, p=PROBS)\n",
        "  mg_hat_x = len(sample[sample >= gs_idx])\n",
        "  return mg_hat_x\n",
        "\n",
        "def multisample_gopher(n, gs_idx):\n",
        "  \"\"\"\n",
        "  Same as sample_gopher, but uses batches in order to avoid running out of memory.\n",
        "  n: The number of traps to sample\n",
        "  gs_idx: The index in the GS array that corresponds to the g(x) value of the trap\n",
        "    we're analyzing.\n",
        "  \"\"\"\n",
        "  BATCH_SIZE = 1000000\n",
        "  num_samples = n // BATCH_SIZE\n",
        "  mg_hat_x = 0\n",
        "\n",
        "  for i in range(num_samples):\n",
        "    mg_hat_x += sample_gopher(n, gs_idx)\n",
        "\n",
        "  return mg_hat_x"
      ]
    },
    {
      "cell_type": "markdown",
      "metadata": {
        "id": "xuwKPD8O4nOB"
      },
      "source": [
        "`compute_real_bound_gopher` computes the true bound for a gopher trap."
      ]
    },
    {
      "cell_type": "code",
      "execution_count": null,
      "metadata": {
        "id": "BtwIQp4b4t6u"
      },
      "outputs": [],
      "source": [
        "def compute_real_bound_gopher(gs_idx, shouldPrint=True):\n",
        "  \"\"\"\n",
        "  gs_idx: The index in the GS array that corresponds to the g(x) value of the trap\n",
        "    we're analyzing.\n",
        "  should_print: Whether the function should print out values used in the calculation\n",
        "  \"\"\"\n",
        "  mg_x = NUM_TRAPS_GREATER_OR_EQUAL_RATIO[gs_idx]\n",
        "  fg_x = mg_x / NUM_POSS_TRAPS\n",
        "  nu_x = 1/fg_x\n",
        "  kardis = NUM_POSS_TRAPS * (1 + np.log(NUM_POSS_TRAPS)) * (1/NUM_POSS_TRAPS) * fg_x\n",
        "  if shouldPrint:\n",
        "    print(f'mg_x: {mg_x}')\n",
        "    print(f'fg_x: {fg_x}')\n",
        "    print(f'nu_x: {nu_x}')\n",
        "    print(f'script_x : {NUM_POSS_TRAPS}')\n",
        "    print(f'\\nkardis (real value): {kardis}')\n",
        "  return kardis"
      ]
    },
    {
      "cell_type": "markdown",
      "metadata": {
        "id": "hPXg-O1N4uXI"
      },
      "source": [
        "### Experiments"
      ]
    },
    {
      "cell_type": "markdown",
      "metadata": {
        "id": "VVNKDcAuEn7v"
      },
      "source": [
        "Let's try calculating the bound on a trap $x$ with $g(x) = 4/4 = 1$. If we set $\\alpha = 0.05$, then the results are statistically significant, that is, we reject the null hypothesis that this trap was randomly generated."
      ]
    },
    {
      "cell_type": "code",
      "execution_count": null,
      "metadata": {
        "colab": {
          "base_uri": "https://localhost:8080/"
        },
        "id": "YNh0o5QGAd5k",
        "outputId": "e835c755-41ad-418a-d2c6-69f8910e27c1"
      },
      "outputs": [
        {
          "name": "stdout",
          "output_type": "stream",
          "text": [
            "sample size: 10000000\n",
            "mg_hat_x: 1\n",
            "fg_hat_x: 1e-07\n",
            "nu_hat_x: 10000000.0\n",
            "p_x: 2.3368318815298826e-18\n",
            "\n",
            "Pr(SC(X) > SC(x)) <= 0.026776392933229226\n",
            "\n"
          ]
        },
        {
          "data": {
            "text/plain": [
              "0.026776392933229226"
            ]
          },
          "execution_count": 60,
          "metadata": {},
          "output_type": "execute_result"
        }
      ],
      "source": [
        "ratio_gopher = 4/4\n",
        "n_gopher=10_000_000\n",
        "mg_hat_gopher = get_mg_gopher(n=10000000, gs_idx=GS.index(ratio_gopher), modified=True)\n",
        "compute_bound(n_gopher, mg_hat_gopher, script_x=NUM_POSS_TRAPS, p_x=1/NUM_POSS_TRAPS)"
      ]
    },
    {
      "cell_type": "markdown",
      "metadata": {
        "id": "4kGA2BM67CFi"
      },
      "source": [
        "This is consistent with the results we get when we calculate the true value of $\\nu(x)$."
      ]
    },
    {
      "cell_type": "code",
      "execution_count": null,
      "metadata": {
        "colab": {
          "base_uri": "https://localhost:8080/"
        },
        "id": "fcD1oEyS7GAd",
        "outputId": "a81be712-d131-473a-cbbc-dc9b0ae0363c"
      },
      "outputs": [
        {
          "name": "stdout",
          "output_type": "stream",
          "text": [
            "mg_x: 26730\n",
            "fg_x: 6.246351619329376e-14\n",
            "nu_x: 16009345309756.395\n",
            "script_x : 427929800129788411\n",
            "\n",
            "kardis (real value): 2.598340828672189e-12\n"
          ]
        },
        {
          "data": {
            "text/plain": [
              "2.598340828672189e-12"
            ]
          },
          "execution_count": 61,
          "metadata": {},
          "output_type": "execute_result"
        }
      ],
      "source": [
        "compute_real_bound_gopher(GS.index(4/4))"
      ]
    },
    {
      "cell_type": "code",
      "execution_count": null,
      "metadata": {
        "colab": {
          "base_uri": "https://localhost:8080/"
        },
        "id": "JgrYAY53C4Bo",
        "outputId": "dc07800d-b186-4d8b-9e04-2e6acdce6c2a"
      },
      "outputs": [
        {
          "name": "stdout",
          "output_type": "stream",
          "text": [
            "mg_x: 354394707075243198\n",
            "fg_x: 0.8281608501388721\n",
            "nu_x: 1.2074948964712744\n",
            "script_x : 427929800129788411\n",
            "\n",
            "kardis (real value): 34.44961604410494\n"
          ]
        },
        {
          "data": {
            "text/plain": [
              "34.44961604410494"
            ]
          },
          "execution_count": 62,
          "metadata": {},
          "output_type": "execute_result"
        }
      ],
      "source": [
        "compute_real_bound_gopher(GS.index(1/9))"
      ]
    },
    {
      "cell_type": "markdown",
      "metadata": {
        "id": "04PWMs2SFIdT"
      },
      "source": [
        "### Bound for Varying $\\delta$ and $n$"
      ]
    },
    {
      "cell_type": "markdown",
      "metadata": {
        "id": "oiK1KR4O4XPX"
      },
      "source": [
        "We use [this post](https://learnsharewithdp.wordpress.com/2020/05/08/latex-matplotlib-google-colab/) to install latex in Google Colab."
      ]
    },
    {
      "cell_type": "code",
      "execution_count": null,
      "metadata": {
        "id": "nXcx1Gts4StA",
        "colab": {
          "base_uri": "https://localhost:8080/"
        },
        "outputId": "9dbdc4d3-70c1-42c1-f918-466a806cbd4b"
      },
      "outputs": [
        {
          "output_type": "stream",
          "name": "stdout",
          "text": [
            "Reading package lists... Done\n",
            "Building dependency tree       \n",
            "Reading state information... Done\n",
            "The following additional packages will be installed:\n",
            "  dvisvgm fonts-droid-fallback fonts-lmodern fonts-noto-mono fonts-urw-base35\n",
            "  libfontenc1 libgs9 libgs9-common libharfbuzz-icu0 libidn11 libijs-0.35\n",
            "  libjbig2dec0 libkpathsea6 libptexenc1 libsynctex2 libteckit0 libtexlua53\n",
            "  libtexluajit2 libwoff1 libzzip-0-13 lmodern poppler-data t1utils tex-common\n",
            "  texlive-base texlive-binaries texlive-latex-base xfonts-encodings\n",
            "  xfonts-utils\n",
            "Suggested packages:\n",
            "  fonts-noto fonts-freefont-otf | fonts-freefont-ttf fonts-texgyre\n",
            "  poppler-utils ghostscript fonts-japanese-mincho | fonts-ipafont-mincho\n",
            "  fonts-japanese-gothic | fonts-ipafont-gothic fonts-arphic-ukai\n",
            "  fonts-arphic-uming fonts-nanum debhelper gv | postscript-viewer perl-tk xpdf\n",
            "  | pdf-viewer xzdec texlive-latex-base-doc texlive-latex-recommended-doc\n",
            "  texlive-luatex texlive-pstricks\n",
            "The following NEW packages will be installed:\n",
            "  dvisvgm fonts-droid-fallback fonts-lmodern fonts-noto-mono fonts-urw-base35\n",
            "  libfontenc1 libgs9 libgs9-common libharfbuzz-icu0 libidn11 libijs-0.35\n",
            "  libjbig2dec0 libkpathsea6 libptexenc1 libsynctex2 libteckit0 libtexlua53\n",
            "  libtexluajit2 libwoff1 libzzip-0-13 lmodern poppler-data t1utils tex-common\n",
            "  texlive-base texlive-binaries texlive-latex-base texlive-latex-recommended\n",
            "  xfonts-encodings xfonts-utils\n",
            "0 upgraded, 30 newly installed, 0 to remove and 24 not upgraded.\n",
            "Need to get 74.9 MB of archives.\n",
            "After this operation, 260 MB of additional disk space will be used.\n",
            "Get:1 http://archive.ubuntu.com/ubuntu focal/main amd64 fonts-droid-fallback all 1:6.0.1r16-1.1 [1,805 kB]\n",
            "Get:2 http://archive.ubuntu.com/ubuntu focal/main amd64 poppler-data all 0.4.9-2 [1,475 kB]\n",
            "Get:3 http://archive.ubuntu.com/ubuntu focal/universe amd64 tex-common all 6.13 [32.7 kB]\n",
            "Get:4 http://archive.ubuntu.com/ubuntu focal/main amd64 fonts-urw-base35 all 20170801.1-3 [6,333 kB]\n",
            "Get:5 http://archive.ubuntu.com/ubuntu focal-updates/main amd64 libgs9-common all 9.50~dfsg-5ubuntu4.7 [681 kB]\n",
            "Get:6 http://archive.ubuntu.com/ubuntu focal/main amd64 libidn11 amd64 1.33-2.2ubuntu2 [46.2 kB]\n",
            "Get:7 http://archive.ubuntu.com/ubuntu focal/main amd64 libijs-0.35 amd64 0.35-15 [15.7 kB]\n",
            "Get:8 http://archive.ubuntu.com/ubuntu focal/main amd64 libjbig2dec0 amd64 0.18-1ubuntu1 [60.0 kB]\n",
            "Get:9 http://archive.ubuntu.com/ubuntu focal-updates/main amd64 libgs9 amd64 9.50~dfsg-5ubuntu4.7 [2,173 kB]\n",
            "Get:10 http://archive.ubuntu.com/ubuntu focal/main amd64 libkpathsea6 amd64 2019.20190605.51237-3build2 [57.0 kB]\n",
            "Get:11 http://archive.ubuntu.com/ubuntu focal/main amd64 libwoff1 amd64 1.0.2-1build2 [42.0 kB]\n",
            "Get:12 http://archive.ubuntu.com/ubuntu focal/universe amd64 dvisvgm amd64 2.8.1-1build1 [1,048 kB]\n",
            "Get:13 http://archive.ubuntu.com/ubuntu focal/universe amd64 fonts-lmodern all 2.004.5-6 [4,532 kB]\n",
            "Get:14 http://archive.ubuntu.com/ubuntu focal-updates/main amd64 fonts-noto-mono all 20200323-1build1~ubuntu20.04.1 [80.6 kB]\n",
            "Get:15 http://archive.ubuntu.com/ubuntu focal/main amd64 libfontenc1 amd64 1:1.1.4-0ubuntu1 [14.0 kB]\n",
            "Get:16 http://archive.ubuntu.com/ubuntu focal-updates/main amd64 libharfbuzz-icu0 amd64 2.6.4-1ubuntu4.2 [5,580 B]\n",
            "Get:17 http://archive.ubuntu.com/ubuntu focal/main amd64 libptexenc1 amd64 2019.20190605.51237-3build2 [35.5 kB]\n",
            "Get:18 http://archive.ubuntu.com/ubuntu focal/main amd64 libsynctex2 amd64 2019.20190605.51237-3build2 [55.0 kB]\n",
            "Get:19 http://archive.ubuntu.com/ubuntu focal/universe amd64 libteckit0 amd64 2.5.8+ds2-5ubuntu2 [320 kB]\n",
            "Get:20 http://archive.ubuntu.com/ubuntu focal/main amd64 libtexlua53 amd64 2019.20190605.51237-3build2 [105 kB]\n",
            "Get:21 http://archive.ubuntu.com/ubuntu focal/main amd64 libtexluajit2 amd64 2019.20190605.51237-3build2 [235 kB]\n",
            "Get:22 http://archive.ubuntu.com/ubuntu focal/universe amd64 libzzip-0-13 amd64 0.13.62-3.2ubuntu1 [26.2 kB]\n",
            "Get:23 http://archive.ubuntu.com/ubuntu focal/main amd64 xfonts-encodings all 1:1.0.5-0ubuntu1 [573 kB]\n",
            "Get:24 http://archive.ubuntu.com/ubuntu focal/main amd64 xfonts-utils amd64 1:7.7+6 [91.5 kB]\n",
            "Get:25 http://archive.ubuntu.com/ubuntu focal/universe amd64 lmodern all 2.004.5-6 [9,474 kB]\n",
            "Get:26 http://archive.ubuntu.com/ubuntu focal/main amd64 t1utils amd64 1.41-3 [56.1 kB]\n",
            "Get:27 http://archive.ubuntu.com/ubuntu focal/universe amd64 texlive-binaries amd64 2019.20190605.51237-3build2 [8,041 kB]\n",
            "Get:28 http://archive.ubuntu.com/ubuntu focal/universe amd64 texlive-base all 2019.20200218-1 [20.8 MB]\n",
            "Get:29 http://archive.ubuntu.com/ubuntu focal/universe amd64 texlive-latex-base all 2019.20200218-1 [990 kB]\n",
            "Get:30 http://archive.ubuntu.com/ubuntu focal/universe amd64 texlive-latex-recommended all 2019.20200218-1 [15.7 MB]\n",
            "Fetched 74.9 MB in 5s (15.2 MB/s)\n",
            "debconf: unable to initialize frontend: Dialog\n",
            "debconf: (No usable dialog-like program is installed, so the dialog based frontend cannot be used. at /usr/share/perl5/Debconf/FrontEnd/Dialog.pm line 76, <> line 30.)\n",
            "debconf: falling back to frontend: Readline\n",
            "debconf: unable to initialize frontend: Readline\n",
            "debconf: (This frontend requires a controlling tty.)\n",
            "debconf: falling back to frontend: Teletype\n",
            "dpkg-preconfigure: unable to re-open stdin: \n",
            "Selecting previously unselected package fonts-droid-fallback.\n",
            "(Reading database ... 122518 files and directories currently installed.)\n",
            "Preparing to unpack .../00-fonts-droid-fallback_1%3a6.0.1r16-1.1_all.deb ...\n",
            "Unpacking fonts-droid-fallback (1:6.0.1r16-1.1) ...\n",
            "Selecting previously unselected package poppler-data.\n",
            "Preparing to unpack .../01-poppler-data_0.4.9-2_all.deb ...\n",
            "Unpacking poppler-data (0.4.9-2) ...\n",
            "Selecting previously unselected package tex-common.\n",
            "Preparing to unpack .../02-tex-common_6.13_all.deb ...\n",
            "Unpacking tex-common (6.13) ...\n",
            "Selecting previously unselected package fonts-urw-base35.\n",
            "Preparing to unpack .../03-fonts-urw-base35_20170801.1-3_all.deb ...\n",
            "Unpacking fonts-urw-base35 (20170801.1-3) ...\n",
            "Selecting previously unselected package libgs9-common.\n",
            "Preparing to unpack .../04-libgs9-common_9.50~dfsg-5ubuntu4.7_all.deb ...\n",
            "Unpacking libgs9-common (9.50~dfsg-5ubuntu4.7) ...\n",
            "Selecting previously unselected package libidn11:amd64.\n",
            "Preparing to unpack .../05-libidn11_1.33-2.2ubuntu2_amd64.deb ...\n",
            "Unpacking libidn11:amd64 (1.33-2.2ubuntu2) ...\n",
            "Selecting previously unselected package libijs-0.35:amd64.\n",
            "Preparing to unpack .../06-libijs-0.35_0.35-15_amd64.deb ...\n",
            "Unpacking libijs-0.35:amd64 (0.35-15) ...\n",
            "Selecting previously unselected package libjbig2dec0:amd64.\n",
            "Preparing to unpack .../07-libjbig2dec0_0.18-1ubuntu1_amd64.deb ...\n",
            "Unpacking libjbig2dec0:amd64 (0.18-1ubuntu1) ...\n",
            "Selecting previously unselected package libgs9:amd64.\n",
            "Preparing to unpack .../08-libgs9_9.50~dfsg-5ubuntu4.7_amd64.deb ...\n",
            "Unpacking libgs9:amd64 (9.50~dfsg-5ubuntu4.7) ...\n",
            "Selecting previously unselected package libkpathsea6:amd64.\n",
            "Preparing to unpack .../09-libkpathsea6_2019.20190605.51237-3build2_amd64.deb ...\n",
            "Unpacking libkpathsea6:amd64 (2019.20190605.51237-3build2) ...\n",
            "Selecting previously unselected package libwoff1:amd64.\n",
            "Preparing to unpack .../10-libwoff1_1.0.2-1build2_amd64.deb ...\n",
            "Unpacking libwoff1:amd64 (1.0.2-1build2) ...\n",
            "Selecting previously unselected package dvisvgm.\n",
            "Preparing to unpack .../11-dvisvgm_2.8.1-1build1_amd64.deb ...\n",
            "Unpacking dvisvgm (2.8.1-1build1) ...\n",
            "Selecting previously unselected package fonts-lmodern.\n",
            "Preparing to unpack .../12-fonts-lmodern_2.004.5-6_all.deb ...\n",
            "Unpacking fonts-lmodern (2.004.5-6) ...\n",
            "Selecting previously unselected package fonts-noto-mono.\n",
            "Preparing to unpack .../13-fonts-noto-mono_20200323-1build1~ubuntu20.04.1_all.deb ...\n",
            "Unpacking fonts-noto-mono (20200323-1build1~ubuntu20.04.1) ...\n",
            "Selecting previously unselected package libfontenc1:amd64.\n",
            "Preparing to unpack .../14-libfontenc1_1%3a1.1.4-0ubuntu1_amd64.deb ...\n",
            "Unpacking libfontenc1:amd64 (1:1.1.4-0ubuntu1) ...\n",
            "Selecting previously unselected package libharfbuzz-icu0:amd64.\n",
            "Preparing to unpack .../15-libharfbuzz-icu0_2.6.4-1ubuntu4.2_amd64.deb ...\n",
            "Unpacking libharfbuzz-icu0:amd64 (2.6.4-1ubuntu4.2) ...\n",
            "Selecting previously unselected package libptexenc1:amd64.\n",
            "Preparing to unpack .../16-libptexenc1_2019.20190605.51237-3build2_amd64.deb ...\n",
            "Unpacking libptexenc1:amd64 (2019.20190605.51237-3build2) ...\n",
            "Selecting previously unselected package libsynctex2:amd64.\n",
            "Preparing to unpack .../17-libsynctex2_2019.20190605.51237-3build2_amd64.deb ...\n",
            "Unpacking libsynctex2:amd64 (2019.20190605.51237-3build2) ...\n",
            "Selecting previously unselected package libteckit0:amd64.\n",
            "Preparing to unpack .../18-libteckit0_2.5.8+ds2-5ubuntu2_amd64.deb ...\n",
            "Unpacking libteckit0:amd64 (2.5.8+ds2-5ubuntu2) ...\n",
            "Selecting previously unselected package libtexlua53:amd64.\n",
            "Preparing to unpack .../19-libtexlua53_2019.20190605.51237-3build2_amd64.deb ...\n",
            "Unpacking libtexlua53:amd64 (2019.20190605.51237-3build2) ...\n",
            "Selecting previously unselected package libtexluajit2:amd64.\n",
            "Preparing to unpack .../20-libtexluajit2_2019.20190605.51237-3build2_amd64.deb ...\n",
            "Unpacking libtexluajit2:amd64 (2019.20190605.51237-3build2) ...\n",
            "Selecting previously unselected package libzzip-0-13:amd64.\n",
            "Preparing to unpack .../21-libzzip-0-13_0.13.62-3.2ubuntu1_amd64.deb ...\n",
            "Unpacking libzzip-0-13:amd64 (0.13.62-3.2ubuntu1) ...\n",
            "Selecting previously unselected package xfonts-encodings.\n",
            "Preparing to unpack .../22-xfonts-encodings_1%3a1.0.5-0ubuntu1_all.deb ...\n",
            "Unpacking xfonts-encodings (1:1.0.5-0ubuntu1) ...\n",
            "Selecting previously unselected package xfonts-utils.\n",
            "Preparing to unpack .../23-xfonts-utils_1%3a7.7+6_amd64.deb ...\n",
            "Unpacking xfonts-utils (1:7.7+6) ...\n",
            "Selecting previously unselected package lmodern.\n",
            "Preparing to unpack .../24-lmodern_2.004.5-6_all.deb ...\n",
            "Unpacking lmodern (2.004.5-6) ...\n",
            "Selecting previously unselected package t1utils.\n",
            "Preparing to unpack .../25-t1utils_1.41-3_amd64.deb ...\n",
            "Unpacking t1utils (1.41-3) ...\n",
            "Selecting previously unselected package texlive-binaries.\n",
            "Preparing to unpack .../26-texlive-binaries_2019.20190605.51237-3build2_amd64.deb ...\n",
            "Unpacking texlive-binaries (2019.20190605.51237-3build2) ...\n",
            "Selecting previously unselected package texlive-base.\n",
            "Preparing to unpack .../27-texlive-base_2019.20200218-1_all.deb ...\n",
            "Unpacking texlive-base (2019.20200218-1) ...\n",
            "Selecting previously unselected package texlive-latex-base.\n",
            "Preparing to unpack .../28-texlive-latex-base_2019.20200218-1_all.deb ...\n",
            "Unpacking texlive-latex-base (2019.20200218-1) ...\n",
            "Selecting previously unselected package texlive-latex-recommended.\n",
            "Preparing to unpack .../29-texlive-latex-recommended_2019.20200218-1_all.deb ...\n",
            "Unpacking texlive-latex-recommended (2019.20200218-1) ...\n",
            "Setting up libharfbuzz-icu0:amd64 (2.6.4-1ubuntu4.2) ...\n",
            "Setting up fonts-noto-mono (20200323-1build1~ubuntu20.04.1) ...\n",
            "Setting up libwoff1:amd64 (1.0.2-1build2) ...\n",
            "Setting up libtexlua53:amd64 (2019.20190605.51237-3build2) ...\n",
            "Setting up libijs-0.35:amd64 (0.35-15) ...\n",
            "Setting up libtexluajit2:amd64 (2019.20190605.51237-3build2) ...\n",
            "Setting up libzzip-0-13:amd64 (0.13.62-3.2ubuntu1) ...\n",
            "Setting up fonts-urw-base35 (20170801.1-3) ...\n",
            "Setting up poppler-data (0.4.9-2) ...\n",
            "Setting up tex-common (6.13) ...\n",
            "debconf: unable to initialize frontend: Dialog\n",
            "debconf: (No usable dialog-like program is installed, so the dialog based frontend cannot be used. at /usr/share/perl5/Debconf/FrontEnd/Dialog.pm line 76.)\n",
            "debconf: falling back to frontend: Readline\n",
            "update-language: texlive-base not installed and configured, doing nothing!\n",
            "Setting up libfontenc1:amd64 (1:1.1.4-0ubuntu1) ...\n",
            "Setting up libjbig2dec0:amd64 (0.18-1ubuntu1) ...\n",
            "Setting up libidn11:amd64 (1.33-2.2ubuntu2) ...\n",
            "Setting up libteckit0:amd64 (2.5.8+ds2-5ubuntu2) ...\n",
            "Setting up xfonts-encodings (1:1.0.5-0ubuntu1) ...\n",
            "Setting up t1utils (1.41-3) ...\n",
            "Setting up libkpathsea6:amd64 (2019.20190605.51237-3build2) ...\n",
            "Setting up fonts-lmodern (2.004.5-6) ...\n",
            "Setting up fonts-droid-fallback (1:6.0.1r16-1.1) ...\n",
            "Setting up libsynctex2:amd64 (2019.20190605.51237-3build2) ...\n",
            "Setting up libgs9-common (9.50~dfsg-5ubuntu4.7) ...\n",
            "Setting up libgs9:amd64 (9.50~dfsg-5ubuntu4.7) ...\n",
            "Setting up dvisvgm (2.8.1-1build1) ...\n",
            "Setting up xfonts-utils (1:7.7+6) ...\n",
            "Setting up libptexenc1:amd64 (2019.20190605.51237-3build2) ...\n",
            "Setting up texlive-binaries (2019.20190605.51237-3build2) ...\n",
            "update-alternatives: using /usr/bin/xdvi-xaw to provide /usr/bin/xdvi.bin (xdvi.bin) in auto mode\n",
            "update-alternatives: using /usr/bin/bibtex.original to provide /usr/bin/bibtex (bibtex) in auto mode\n",
            "Setting up lmodern (2.004.5-6) ...\n",
            "Setting up texlive-base (2019.20200218-1) ...\n",
            "mktexlsr: Updating /var/lib/texmf/ls-R-TEXLIVEDIST... \n",
            "mktexlsr: Updating /var/lib/texmf/ls-R-TEXMFMAIN... \n",
            "mktexlsr: Updating /var/lib/texmf/ls-R... \n",
            "mktexlsr: Done.\n",
            "tl-paper: setting paper size for dvips to a4: /var/lib/texmf/dvips/config/config-paper.ps\n",
            "tl-paper: setting paper size for dvipdfmx to a4: /var/lib/texmf/dvipdfmx/dvipdfmx-paper.cfg\n",
            "tl-paper: setting paper size for xdvi to a4: /var/lib/texmf/xdvi/XDvi-paper\n",
            "tl-paper: setting paper size for pdftex to a4: /var/lib/texmf/tex/generic/config/pdftexconfig.tex\n",
            "debconf: unable to initialize frontend: Dialog\n",
            "debconf: (No usable dialog-like program is installed, so the dialog based frontend cannot be used. at /usr/share/perl5/Debconf/FrontEnd/Dialog.pm line 76.)\n",
            "debconf: falling back to frontend: Readline\n",
            "Setting up texlive-latex-base (2019.20200218-1) ...\n",
            "Setting up texlive-latex-recommended (2019.20200218-1) ...\n",
            "Processing triggers for mime-support (3.64ubuntu1) ...\n",
            "Processing triggers for libc-bin (2.31-0ubuntu9.9) ...\n",
            "Processing triggers for man-db (2.9.1-1) ...\n",
            "Processing triggers for fontconfig (2.13.1-2ubuntu3) ...\n",
            "Processing triggers for tex-common (6.13) ...\n",
            "debconf: unable to initialize frontend: Dialog\n",
            "debconf: (No usable dialog-like program is installed, so the dialog based frontend cannot be used. at /usr/share/perl5/Debconf/FrontEnd/Dialog.pm line 76.)\n",
            "debconf: falling back to frontend: Readline\n",
            "Running updmap-sys. This may take some time... done.\n",
            "Running mktexlsr /var/lib/texmf ... done.\n",
            "Building format(s) --all.\n",
            "\tThis may take some time... done.\n",
            "Reading package lists... Done\n",
            "Building dependency tree       \n",
            "Reading state information... Done\n",
            "The following additional packages will be installed:\n",
            "  fonts-lato fonts-texgyre ghostscript javascript-common libapache-pom-java\n",
            "  libcommons-logging-java libcommons-parent-java libfontbox-java libjs-jquery\n",
            "  libpdfbox-java libruby2.7 preview-latex-style rake ruby ruby-minitest\n",
            "  ruby-net-telnet ruby-power-assert ruby-test-unit ruby-xmlrpc ruby2.7\n",
            "  rubygems-integration tex-gyre texlive-pictures texlive-plain-generic tipa\n",
            "Suggested packages:\n",
            "  ghostscript-x apache2 | lighttpd | httpd libavalon-framework-java\n",
            "  libcommons-logging-java-doc libexcalibur-logkit-java liblog4j1.2-java ri\n",
            "  ruby-dev bundler texlive-fonts-recommended-doc python3-pygments icc-profiles\n",
            "  libfile-which-perl libspreadsheet-parseexcel-perl texlive-latex-extra-doc\n",
            "  dot2tex prerex ruby-tcltk | libtcltk-ruby texlive-pictures-doc vprerex\n",
            "  default-jre-headless\n",
            "The following NEW packages will be installed:\n",
            "  dvipng fonts-lato fonts-texgyre ghostscript javascript-common\n",
            "  libapache-pom-java libcommons-logging-java libcommons-parent-java\n",
            "  libfontbox-java libjs-jquery libpdfbox-java libruby2.7 preview-latex-style\n",
            "  rake ruby ruby-minitest ruby-net-telnet ruby-power-assert ruby-test-unit\n",
            "  ruby-xmlrpc ruby2.7 rubygems-integration tex-gyre texlive-fonts-recommended\n",
            "  texlive-latex-extra texlive-pictures texlive-plain-generic tipa\n",
            "0 upgraded, 28 newly installed, 0 to remove and 24 not upgraded.\n",
            "Need to get 78.6 MB of archives.\n",
            "After this operation, 245 MB of additional disk space will be used.\n",
            "Get:1 http://archive.ubuntu.com/ubuntu focal/main amd64 fonts-lato all 2.0-2 [2,698 kB]\n",
            "Get:2 http://archive.ubuntu.com/ubuntu focal-updates/main amd64 ghostscript amd64 9.50~dfsg-5ubuntu4.7 [51.9 kB]\n",
            "Get:3 http://archive.ubuntu.com/ubuntu focal/universe amd64 dvipng amd64 1.15-1.1 [78.9 kB]\n",
            "Get:4 http://archive.ubuntu.com/ubuntu focal/universe amd64 fonts-texgyre all 20180621-3 [10.2 MB]\n",
            "Get:5 http://archive.ubuntu.com/ubuntu focal/main amd64 javascript-common all 11 [6,066 B]\n",
            "Get:6 http://archive.ubuntu.com/ubuntu focal/universe amd64 libapache-pom-java all 18-1 [4,720 B]\n",
            "Get:7 http://archive.ubuntu.com/ubuntu focal/universe amd64 libcommons-parent-java all 43-1 [10.8 kB]\n",
            "Get:8 http://archive.ubuntu.com/ubuntu focal/universe amd64 libcommons-logging-java all 1.2-2 [60.3 kB]\n",
            "Get:9 http://archive.ubuntu.com/ubuntu focal/main amd64 libjs-jquery all 3.3.1~dfsg-3 [329 kB]\n",
            "Get:10 http://archive.ubuntu.com/ubuntu focal/main amd64 rubygems-integration all 1.16 [5,092 B]\n",
            "Get:11 http://archive.ubuntu.com/ubuntu focal-updates/main amd64 ruby2.7 amd64 2.7.0-5ubuntu1.10 [95.6 kB]\n",
            "Get:12 http://archive.ubuntu.com/ubuntu focal/main amd64 ruby amd64 1:2.7+1 [5,412 B]\n",
            "Get:13 http://archive.ubuntu.com/ubuntu focal/main amd64 rake all 13.0.1-4 [61.6 kB]\n",
            "Get:14 http://archive.ubuntu.com/ubuntu focal/main amd64 ruby-minitest all 5.13.0-1 [40.9 kB]\n",
            "Get:15 http://archive.ubuntu.com/ubuntu focal/main amd64 ruby-net-telnet all 0.1.1-2 [12.6 kB]\n",
            "Get:16 http://archive.ubuntu.com/ubuntu focal/main amd64 ruby-power-assert all 1.1.7-1 [11.4 kB]\n",
            "Get:17 http://archive.ubuntu.com/ubuntu focal/main amd64 ruby-test-unit all 3.3.5-1 [73.2 kB]\n",
            "Get:18 http://archive.ubuntu.com/ubuntu focal/main amd64 ruby-xmlrpc all 0.3.0-2 [23.8 kB]\n",
            "Get:19 http://archive.ubuntu.com/ubuntu focal-updates/main amd64 libruby2.7 amd64 2.7.0-5ubuntu1.10 [3,532 kB]\n",
            "Get:20 http://archive.ubuntu.com/ubuntu focal/universe amd64 preview-latex-style all 11.91-2ubuntu2 [184 kB]\n",
            "Get:21 http://archive.ubuntu.com/ubuntu focal/universe amd64 tex-gyre all 20180621-3 [6,209 kB]\n",
            "Get:22 http://archive.ubuntu.com/ubuntu focal/universe amd64 texlive-fonts-recommended all 2019.20200218-1 [4,972 kB]\n",
            "Get:23 http://archive.ubuntu.com/ubuntu focal/universe amd64 libfontbox-java all 1:1.8.16-2 [207 kB]\n",
            "Get:24 http://archive.ubuntu.com/ubuntu focal/universe amd64 libpdfbox-java all 1:1.8.16-2 [5,199 kB]\n",
            "Get:25 http://archive.ubuntu.com/ubuntu focal/universe amd64 texlive-pictures all 2019.20200218-1 [4,492 kB]\n",
            "Get:26 http://archive.ubuntu.com/ubuntu focal/universe amd64 texlive-latex-extra all 2019.202000218-1 [12.5 MB]\n",
            "Get:27 http://archive.ubuntu.com/ubuntu focal/universe amd64 texlive-plain-generic all 2019.202000218-1 [24.6 MB]\n",
            "Get:28 http://archive.ubuntu.com/ubuntu focal/universe amd64 tipa all 2:1.3-20 [2,978 kB]\n",
            "Fetched 78.6 MB in 8s (10.0 MB/s)\n",
            "debconf: unable to initialize frontend: Dialog\n",
            "debconf: (No usable dialog-like program is installed, so the dialog based frontend cannot be used. at /usr/share/perl5/Debconf/FrontEnd/Dialog.pm line 76, <> line 28.)\n",
            "debconf: falling back to frontend: Readline\n",
            "debconf: unable to initialize frontend: Readline\n",
            "debconf: (This frontend requires a controlling tty.)\n",
            "debconf: falling back to frontend: Teletype\n",
            "dpkg-preconfigure: unable to re-open stdin: \n",
            "Selecting previously unselected package fonts-lato.\n",
            "(Reading database ... 131717 files and directories currently installed.)\n",
            "Preparing to unpack .../00-fonts-lato_2.0-2_all.deb ...\n",
            "Unpacking fonts-lato (2.0-2) ...\n",
            "Selecting previously unselected package ghostscript.\n",
            "Preparing to unpack .../01-ghostscript_9.50~dfsg-5ubuntu4.7_amd64.deb ...\n",
            "Unpacking ghostscript (9.50~dfsg-5ubuntu4.7) ...\n",
            "Selecting previously unselected package dvipng.\n",
            "Preparing to unpack .../02-dvipng_1.15-1.1_amd64.deb ...\n",
            "Unpacking dvipng (1.15-1.1) ...\n",
            "Selecting previously unselected package fonts-texgyre.\n",
            "Preparing to unpack .../03-fonts-texgyre_20180621-3_all.deb ...\n",
            "Unpacking fonts-texgyre (20180621-3) ...\n",
            "Selecting previously unselected package javascript-common.\n",
            "Preparing to unpack .../04-javascript-common_11_all.deb ...\n",
            "Unpacking javascript-common (11) ...\n",
            "Selecting previously unselected package libapache-pom-java.\n",
            "Preparing to unpack .../05-libapache-pom-java_18-1_all.deb ...\n",
            "Unpacking libapache-pom-java (18-1) ...\n",
            "Selecting previously unselected package libcommons-parent-java.\n",
            "Preparing to unpack .../06-libcommons-parent-java_43-1_all.deb ...\n",
            "Unpacking libcommons-parent-java (43-1) ...\n",
            "Selecting previously unselected package libcommons-logging-java.\n",
            "Preparing to unpack .../07-libcommons-logging-java_1.2-2_all.deb ...\n",
            "Unpacking libcommons-logging-java (1.2-2) ...\n",
            "Selecting previously unselected package libjs-jquery.\n",
            "Preparing to unpack .../08-libjs-jquery_3.3.1~dfsg-3_all.deb ...\n",
            "Unpacking libjs-jquery (3.3.1~dfsg-3) ...\n",
            "Selecting previously unselected package rubygems-integration.\n",
            "Preparing to unpack .../09-rubygems-integration_1.16_all.deb ...\n",
            "Unpacking rubygems-integration (1.16) ...\n",
            "Selecting previously unselected package ruby2.7.\n",
            "Preparing to unpack .../10-ruby2.7_2.7.0-5ubuntu1.10_amd64.deb ...\n",
            "Unpacking ruby2.7 (2.7.0-5ubuntu1.10) ...\n",
            "Selecting previously unselected package ruby.\n",
            "Preparing to unpack .../11-ruby_1%3a2.7+1_amd64.deb ...\n",
            "Unpacking ruby (1:2.7+1) ...\n",
            "Selecting previously unselected package rake.\n",
            "Preparing to unpack .../12-rake_13.0.1-4_all.deb ...\n",
            "Unpacking rake (13.0.1-4) ...\n",
            "Selecting previously unselected package ruby-minitest.\n",
            "Preparing to unpack .../13-ruby-minitest_5.13.0-1_all.deb ...\n",
            "Unpacking ruby-minitest (5.13.0-1) ...\n",
            "Selecting previously unselected package ruby-net-telnet.\n",
            "Preparing to unpack .../14-ruby-net-telnet_0.1.1-2_all.deb ...\n",
            "Unpacking ruby-net-telnet (0.1.1-2) ...\n",
            "Selecting previously unselected package ruby-power-assert.\n",
            "Preparing to unpack .../15-ruby-power-assert_1.1.7-1_all.deb ...\n",
            "Unpacking ruby-power-assert (1.1.7-1) ...\n",
            "Selecting previously unselected package ruby-test-unit.\n",
            "Preparing to unpack .../16-ruby-test-unit_3.3.5-1_all.deb ...\n",
            "Unpacking ruby-test-unit (3.3.5-1) ...\n",
            "Selecting previously unselected package ruby-xmlrpc.\n",
            "Preparing to unpack .../17-ruby-xmlrpc_0.3.0-2_all.deb ...\n",
            "Unpacking ruby-xmlrpc (0.3.0-2) ...\n",
            "Selecting previously unselected package libruby2.7:amd64.\n",
            "Preparing to unpack .../18-libruby2.7_2.7.0-5ubuntu1.10_amd64.deb ...\n",
            "Unpacking libruby2.7:amd64 (2.7.0-5ubuntu1.10) ...\n",
            "Selecting previously unselected package preview-latex-style.\n",
            "Preparing to unpack .../19-preview-latex-style_11.91-2ubuntu2_all.deb ...\n",
            "Unpacking preview-latex-style (11.91-2ubuntu2) ...\n",
            "Selecting previously unselected package tex-gyre.\n",
            "Preparing to unpack .../20-tex-gyre_20180621-3_all.deb ...\n",
            "Unpacking tex-gyre (20180621-3) ...\n",
            "Selecting previously unselected package texlive-fonts-recommended.\n",
            "Preparing to unpack .../21-texlive-fonts-recommended_2019.20200218-1_all.deb ...\n",
            "Unpacking texlive-fonts-recommended (2019.20200218-1) ...\n",
            "Selecting previously unselected package libfontbox-java.\n",
            "Preparing to unpack .../22-libfontbox-java_1%3a1.8.16-2_all.deb ...\n",
            "Unpacking libfontbox-java (1:1.8.16-2) ...\n",
            "Selecting previously unselected package libpdfbox-java.\n",
            "Preparing to unpack .../23-libpdfbox-java_1%3a1.8.16-2_all.deb ...\n",
            "Unpacking libpdfbox-java (1:1.8.16-2) ...\n",
            "Selecting previously unselected package texlive-pictures.\n",
            "Preparing to unpack .../24-texlive-pictures_2019.20200218-1_all.deb ...\n",
            "Unpacking texlive-pictures (2019.20200218-1) ...\n",
            "Selecting previously unselected package texlive-latex-extra.\n",
            "Preparing to unpack .../25-texlive-latex-extra_2019.202000218-1_all.deb ...\n",
            "Unpacking texlive-latex-extra (2019.202000218-1) ...\n",
            "Selecting previously unselected package texlive-plain-generic.\n",
            "Preparing to unpack .../26-texlive-plain-generic_2019.202000218-1_all.deb ...\n",
            "Unpacking texlive-plain-generic (2019.202000218-1) ...\n",
            "Selecting previously unselected package tipa.\n",
            "Preparing to unpack .../27-tipa_2%3a1.3-20_all.deb ...\n",
            "Unpacking tipa (2:1.3-20) ...\n",
            "Setting up javascript-common (11) ...\n",
            "Setting up fonts-lato (2.0-2) ...\n",
            "Setting up ruby-power-assert (1.1.7-1) ...\n",
            "Setting up preview-latex-style (11.91-2ubuntu2) ...\n",
            "Setting up libfontbox-java (1:1.8.16-2) ...\n",
            "Setting up texlive-plain-generic (2019.202000218-1) ...\n",
            "Setting up rubygems-integration (1.16) ...\n",
            "Setting up ghostscript (9.50~dfsg-5ubuntu4.7) ...\n",
            "Setting up ruby-minitest (5.13.0-1) ...\n",
            "Setting up ruby-test-unit (3.3.5-1) ...\n",
            "Setting up libapache-pom-java (18-1) ...\n",
            "Setting up ruby-net-telnet (0.1.1-2) ...\n",
            "Setting up fonts-texgyre (20180621-3) ...\n",
            "Setting up texlive-pictures (2019.20200218-1) ...\n",
            "Setting up texlive-fonts-recommended (2019.20200218-1) ...\n",
            "Setting up tipa (2:1.3-20) ...\n",
            "Regenerating '/var/lib/texmf/fmtutil.cnf-DEBIAN'... done.\n",
            "Regenerating '/var/lib/texmf/fmtutil.cnf-TEXLIVEDIST'... done.\n",
            "update-fmtutil has updated the following file(s):\n",
            "\t/var/lib/texmf/fmtutil.cnf-DEBIAN\n",
            "\t/var/lib/texmf/fmtutil.cnf-TEXLIVEDIST\n",
            "If you want to activate the changes in the above file(s),\n",
            "you should run fmtutil-sys or fmtutil.\n",
            "Setting up libjs-jquery (3.3.1~dfsg-3) ...\n",
            "Setting up ruby-xmlrpc (0.3.0-2) ...\n",
            "Setting up tex-gyre (20180621-3) ...\n",
            "Setting up libpdfbox-java (1:1.8.16-2) ...\n",
            "Setting up dvipng (1.15-1.1) ...\n",
            "Setting up libcommons-parent-java (43-1) ...\n",
            "Setting up libcommons-logging-java (1.2-2) ...\n",
            "Setting up texlive-latex-extra (2019.202000218-1) ...\n",
            "Setting up libruby2.7:amd64 (2.7.0-5ubuntu1.10) ...\n",
            "Setting up ruby2.7 (2.7.0-5ubuntu1.10) ...\n",
            "Setting up ruby (1:2.7+1) ...\n",
            "Setting up rake (13.0.1-4) ...\n",
            "Processing triggers for fontconfig (2.13.1-2ubuntu3) ...\n",
            "Processing triggers for libc-bin (2.31-0ubuntu9.9) ...\n",
            "Processing triggers for man-db (2.9.1-1) ...\n",
            "Processing triggers for tex-common (6.13) ...\n",
            "debconf: unable to initialize frontend: Dialog\n",
            "debconf: (No usable dialog-like program is installed, so the dialog based frontend cannot be used. at /usr/share/perl5/Debconf/FrontEnd/Dialog.pm line 76.)\n",
            "debconf: falling back to frontend: Readline\n",
            "Running mktexlsr. This may take some time... done.\n",
            "Running updmap-sys. This may take some time... done.\n",
            "Running mktexlsr /var/lib/texmf ... done.\n",
            "Building format(s) --all.\n",
            "\tThis may take some time... done.\n",
            "--2023-05-08 21:36:34--  http://mirrors.ctan.org/macros/latex/contrib/type1cm.zip\n",
            "Resolving mirrors.ctan.org (mirrors.ctan.org)... 5.35.249.60\n",
            "Connecting to mirrors.ctan.org (mirrors.ctan.org)|5.35.249.60|:80... connected.\n",
            "HTTP request sent, awaiting response... 302 Found\n",
            "Location: https://ctan.math.utah.edu/ctan/tex-archive/macros/latex/contrib/type1cm.zip [following]\n",
            "--2023-05-08 21:36:35--  https://ctan.math.utah.edu/ctan/tex-archive/macros/latex/contrib/type1cm.zip\n",
            "Resolving ctan.math.utah.edu (ctan.math.utah.edu)... 155.101.98.136\n",
            "Connecting to ctan.math.utah.edu (ctan.math.utah.edu)|155.101.98.136|:443... connected.\n",
            "HTTP request sent, awaiting response... 200 OK\n",
            "Length: 328566 (321K) [application/zip]\n",
            "Saving to: ‘type1cm.zip’\n",
            "\n",
            "type1cm.zip         100%[===================>] 320.87K  1.58MB/s    in 0.2s    \n",
            "\n",
            "2023-05-08 21:36:36 (1.58 MB/s) - ‘type1cm.zip’ saved [328566/328566]\n",
            "\n",
            "Archive:  type1cm.zip\n",
            "   creating: /tmp/type1cm/type1cm/\n",
            "  inflating: /tmp/type1cm/type1cm/type1cm.fdd  \n",
            "  inflating: /tmp/type1cm/type1cm/type1cm.ins  \n",
            "  inflating: /tmp/type1cm/type1cm/type1cm.txt  \n",
            "  inflating: /tmp/type1cm/type1cm/type1cm-doc.pdf  \n",
            "  inflating: /tmp/type1cm/type1cm/type1cm-doc.tex  \n",
            "This is pdfTeX, Version 3.14159265-2.6-1.40.20 (TeX Live 2019/Debian) (preloaded format=latex)\n",
            " restricted \\write18 enabled.\n",
            "entering extended mode\n",
            "(./type1cm.ins\n",
            "LaTeX2e <2020-02-02> patch level 2\n",
            "L3 programming layer <2020-02-14>\n",
            "(/usr/share/texlive/texmf-dist/tex/latex/base/docstrip.tex\n",
            "Utility: `docstrip' 2.5g <2018/05/03>\n",
            "English documentation    <2018/05/03>\n",
            "\n",
            "**********************************************************\n",
            "* This program converts documented macro-files into fast *\n",
            "* loadable files by stripping off (nearly) all comments! *\n",
            "**********************************************************\n",
            "\n",
            "********************************************************\n",
            "* No Configuration file found, using default settings. *\n",
            "********************************************************\n",
            "\n",
            "(./type1cm.ins\n",
            "\n",
            "Generating file(s) ./type1cm.sty \n",
            "\n",
            "Processing file type1cm.fdd (package,ams) -> type1cm.sty\n",
            "Lines  processed: 410\n",
            "Comments removed: 25\n",
            "Comments  passed: 7\n",
            "Codelines passed: 263\n",
            "\n",
            ") ) )\n",
            "No pages of output.\n",
            "Transcript written on type1cm.log.\n",
            "texhash: Updating /usr/local/share/texmf/ls-R... \n",
            "texhash: Updating /var/lib/texmf/ls-R-TEXLIVEDIST... \n",
            "texhash: Updating /var/lib/texmf/ls-R-TEXMFMAIN... \n",
            "texhash: Updating /var/lib/texmf/ls-R... \n",
            "texhash: Done.\n"
          ]
        }
      ],
      "source": [
        "! sudo apt-get install texlive-latex-recommended\n",
        "! sudo apt-get install dvipng texlive-latex-extra texlive-fonts-recommended\n",
        "! wget http://mirrors.ctan.org/macros/latex/contrib/type1cm.zip\n",
        "! unzip type1cm.zip -d /tmp/type1cm\n",
        "! cd /tmp/type1cm/type1cm/ && sudo latex type1cm.ins\n",
        "! sudo mkdir /usr/share/texmf/tex/latex/type1cm\n",
        "! sudo cp /tmp/type1cm/type1cm/type1cm.sty /usr/share/texmf/tex/latex/type1cm\n",
        "! sudo texhash"
      ]
    },
    {
      "cell_type": "code",
      "execution_count": null,
      "metadata": {
        "id": "X6YhIPKO4WI3",
        "colab": {
          "base_uri": "https://localhost:8080/"
        },
        "outputId": "f4ba4812-2723-411c-a22a-e106e0d508f9"
      },
      "outputs": [
        {
          "output_type": "stream",
          "name": "stdout",
          "text": [
            "Reading package lists... Done\n",
            "Building dependency tree       \n",
            "Reading state information... Done\n",
            "The following additional packages will be installed:\n",
            "  cm-super-minimal pfb2t1c2pfb\n",
            "The following NEW packages will be installed:\n",
            "  cm-super cm-super-minimal pfb2t1c2pfb\n",
            "0 upgraded, 3 newly installed, 0 to remove and 24 not upgraded.\n",
            "Need to get 24.5 MB of archives.\n",
            "After this operation, 59.9 MB of additional disk space will be used.\n",
            "Get:1 http://archive.ubuntu.com/ubuntu focal/universe amd64 cm-super-minimal all 0.3.4-15 [5,811 kB]\n",
            "Get:2 http://archive.ubuntu.com/ubuntu focal/universe amd64 pfb2t1c2pfb amd64 0.3-11 [9,342 B]\n",
            "Get:3 http://archive.ubuntu.com/ubuntu focal/universe amd64 cm-super all 0.3.4-15 [18.7 MB]\n",
            "Fetched 24.5 MB in 2s (9,848 kB/s)\n",
            "Selecting previously unselected package cm-super-minimal.\n",
            "(Reading database ... 152944 files and directories currently installed.)\n",
            "Preparing to unpack .../cm-super-minimal_0.3.4-15_all.deb ...\n",
            "Unpacking cm-super-minimal (0.3.4-15) ...\n",
            "Selecting previously unselected package pfb2t1c2pfb.\n",
            "Preparing to unpack .../pfb2t1c2pfb_0.3-11_amd64.deb ...\n",
            "Unpacking pfb2t1c2pfb (0.3-11) ...\n",
            "Selecting previously unselected package cm-super.\n",
            "Preparing to unpack .../cm-super_0.3.4-15_all.deb ...\n",
            "Unpacking cm-super (0.3.4-15) ...\n",
            "Setting up pfb2t1c2pfb (0.3-11) ...\n",
            "Setting up cm-super-minimal (0.3.4-15) ...\n",
            "Setting up cm-super (0.3.4-15) ...\n",
            "Creating fonts. This may take some time... done.\n",
            "Processing triggers for man-db (2.9.1-1) ...\n",
            "Processing triggers for tex-common (6.13) ...\n",
            "Running mktexlsr. This may take some time... done.\n",
            "Running updmap-sys. This may take some time... done.\n",
            "Running mktexlsr /var/lib/texmf ... done.\n",
            "Processing triggers for fontconfig (2.13.1-2ubuntu3) ...\n"
          ]
        }
      ],
      "source": [
        "!apt install cm-super"
      ]
    },
    {
      "cell_type": "code",
      "execution_count": null,
      "metadata": {
        "colab": {
          "base_uri": "https://localhost:8080/"
        },
        "id": "t5SHGRFV1ocO",
        "outputId": "4c07dd0a-0423-4136-955d-5dbc5e999f15"
      },
      "outputs": [
        {
          "output_type": "stream",
          "name": "stderr",
          "text": [
            "<ipython-input-17-f558d5f23b3b>:1: MatplotlibDeprecationWarning: The seaborn styles shipped by Matplotlib are deprecated since 3.6, as they no longer correspond to the styles shipped by seaborn. However, they will remain available as 'seaborn-v0_8-<style>'. Alternatively, directly use the seaborn API instead.\n",
            "  plt.style.use(\"seaborn\")\n"
          ]
        }
      ],
      "source": [
        "plt.style.use(\"seaborn\")\n",
        "plt.rcParams['text.usetex'] = True\n",
        "plt.rcParams['figure.figsize'] = [6.4, 4.8]"
      ]
    },
    {
      "cell_type": "markdown",
      "source": [
        "`boundForVaryingDeltaN` creates graphs similar to Figure 2 in the paper. It shows the effect of various values for the $\\delta$ parameter and $n$ on the error of the resulting bound."
      ],
      "metadata": {
        "id": "XjYoot0X9ELG"
      }
    },
    {
      "cell_type": "code",
      "execution_count": null,
      "metadata": {
        "id": "CKxXYyuV4OYP"
      },
      "outputs": [],
      "source": [
        "def boundForVaryingDeltaN(ratio, deltas=[delta for delta in np.arange(.000000001, .05, .0001)], ns=[100000, 1000000, 10000000, 100000000], filename=None, title=None):\n",
        "  \"\"\"\n",
        "  Creates a graph displaying the effects of using different values for delta and n\n",
        "  on the resulting bound.\n",
        "  ratio: The ratio of coherent connections to nonempty cells in the gopher trap\n",
        "  deltas: The list of delta parameters to calculate the bound for and display\n",
        "  ns: The list of sample sizes to calculate the bound for and display\n",
        "  filename: Filename to save the graph to\n",
        "  title: Title of the graph\n",
        "  \"\"\"\n",
        "  real_bound = compute_real_bound_gopher(GS.index(ratio))\n",
        "  for n in ns:\n",
        "    mg_hat_gopher = get_mg_gopher(n=n, gs_idx=GS.index(ratio), modified=True)\n",
        "    ps = [compute_bound(n, mg_hat_gopher, script_x=NUM_POSS_TRAPS, p_x=1/NUM_POSS_TRAPS, delta=delta, should_print=False) - real_bound for delta in deltas]\n",
        "    plt.plot(deltas, ps, label=f\"n = {n}\")\n",
        "    print(f\"calculated ps for n = {n}\")\n",
        "  plt.xlabel(r'$\\delta$', fontsize=16)\n",
        "  plt.ylabel(r'Error in $\\Pr(SC(X) \\geq SC(x))$', fontsize=16)\n",
        "  if title == None:\n",
        "      title = r'Error in $\\Pr(SC(X) \\geq SC(x))$ for varying values of \\textit{n} and $\\delta$'\n",
        "  plt.title(title, fontsize=16)\n",
        "  plt.legend()\n",
        "  if filename == None:\n",
        "    filename = f\"ratio={ratio}varying-delta+n_fixed_label.pdf\"\n",
        "  plt.savefig(filename, bbox_inches='tight')\n",
        "  plt.show()"
      ]
    },
    {
      "cell_type": "code",
      "execution_count": null,
      "metadata": {
        "colab": {
          "base_uri": "https://localhost:8080/",
          "height": 657
        },
        "id": "HMZ_4miK9NHd",
        "outputId": "c5ea5a53-8ef3-48e0-9b8b-fd1f67941311"
      },
      "outputs": [
        {
          "output_type": "stream",
          "name": "stdout",
          "text": [
            "mg_x: 26730\n",
            "fg_x: 6.246351619329376e-14\n",
            "nu_x: 16009345309756.395\n",
            "script_x : 427929800129788411\n",
            "\n",
            "kardis (real value): 2.598340828672189e-12\n",
            "calculated ps for n = 100000\n",
            "calculated ps for n = 1000000\n",
            "calculated ps for n = 10000000\n",
            "calculated ps for n = 100000000\n"
          ]
        },
        {
          "output_type": "display_data",
          "data": {
            "text/plain": [
              "<Figure size 640x480 with 1 Axes>"
            ],
            "image/png": "[encoded data removed]"
          },
          "metadata": {}
        }
      ],
      "source": [
        "boundForVaryingDeltaN(4/4, deltas=[delta for delta in np.arange (.000000001, .03, .00001)])"
      ]
    },
    {
      "cell_type": "markdown",
      "metadata": {
        "id": "NO5yrCCuCg0j"
      },
      "source": [
        "## Identifying Bias in Data"
      ]
    },
    {
      "cell_type": "markdown",
      "metadata": {
        "id": "9qWlccfUKBy8"
      },
      "source": [
        "Let's see how the bound can be used for the bias in data experiments. Prior work in the paper [Identifying Bias in Data Using Two-Distribution Hypothesis Tests](https://dl.acm.org/doi/pdf/10.1145/3514094.3534169) calculated the true value of $Pr(SC(X) \\geq SC(x))$ by using combinatorics. Similarly to above, we  now use `compute_bound` to compute a bound on $Pr(SC(X) \\geq SC(x))$ using a finite sample of other possible datasets."
      ]
    },
    {
      "cell_type": "markdown",
      "metadata": {
        "id": "HPQ7UScQKPHF"
      },
      "source": [
        "### Functions"
      ]
    },
    {
      "cell_type": "markdown",
      "metadata": {
        "id": "4nb2GLbpFx2L"
      },
      "source": [
        "`get_mg_bias` calculates $\\hat{M_g}(x)$ for a given dataset $x$.\n",
        "\n",
        "To do so, it uses vectors which correspond to the distribution of the dataset across categories. For instance, we could have a dataset of adults, with a male:female ratio of 1:1. Assume that we then found all adults in the dataset who were predicted to make above a certain income level. If we had 1000 adults in the dataset, we'd expect to have 500 males and 500 females, for an expected vector of [500, 500]. However, the actual vector could vary.\n",
        "\n",
        "To calculate $\\hat{M_g}(x)$, `get_mg_bias` first calculates how much $x$'s vector differs from the expected vector. It then counts the number of sampled datasets whose vectors differ more from the expected vector than $x$'s vector differs from the expected vector."
      ]
    },
    {
      "cell_type": "code",
      "execution_count": null,
      "metadata": {
        "colab": {
          "background_save": true
        },
        "id": "OQNeNXm2ChqQ"
      },
      "outputs": [],
      "source": [
        "def get_mg_bias(n, actual_vec, expected_vec):\n",
        "  \"\"\"\n",
        "  Given an actual vector and expected vector, takes n samples and calculates\n",
        "  the number of these samples that are have more extreme differences from the\n",
        "  expected_vec than actual_vec does.\n",
        "  n: Total number of samples\n",
        "  actual_vec: The vector that corresponds to the dataset we're evaluating.\n",
        "  expected_vec: The vector that we'd expect if the dataset wasn't biased.\n",
        "  \"\"\"\n",
        "  g_x = np.sum(np.abs(actual_vec-expected_vec))\n",
        "  num_entries = np.sum(actual_vec)\n",
        "  num_categories = len(actual_vec)\n",
        "  hypothesis = [i/sum(expected_vec) for i in expected_vec]\n",
        "\n",
        "  mg_hat_x = 0\n",
        "  for i in range(n):\n",
        "    sample = np.array(sample_bias(num_entries, num_categories))\n",
        "    distance_vec = sample - expected_vec\n",
        "    if np.sum(np.abs(distance_vec)) >= g_x:\n",
        "      mg_hat_x += 1\n",
        "\n",
        "  return mg_hat_x"
      ]
    },
    {
      "cell_type": "markdown",
      "metadata": {
        "id": "fZWcooo5Fn3p"
      },
      "source": [
        "`sample_bias` is a helper function for `get_mg_bias` which generates an array representing the number of rows assigned to each of a given number of categories `num_categories` for a dataset of a given size `n`. E.g. [200, 200, 200] for a dataset of 600 rows where an equal number are labeled as low, medium, and high recidivism risk."
      ]
    },
    {
      "cell_type": "code",
      "execution_count": null,
      "metadata": {
        "colab": {
          "background_save": true
        },
        "id": "6-oKxXQyFWaP"
      },
      "outputs": [],
      "source": [
        "def sample_bias(n, num_categories):\n",
        "  \"\"\"\n",
        "  n: The number of rows in the dataset. (e.g. the number of people in the COMPAS dataset)\n",
        "  num_categories: The number of categories that the rows are labeled as (e.g. low, medium, high recidivism risk)\n",
        "  \"\"\"\n",
        "  x = []\n",
        "  for i in range(num_categories):\n",
        "    sum_of_previous = sum(x)\n",
        "    if i == num_categories - 1:\n",
        "      x.append(n-sum_of_previous)\n",
        "    else:\n",
        "      x.append(np.random.choice(n-sum_of_previous))\n",
        "  shuffle(x)\n",
        "  return x"
      ]
    },
    {
      "cell_type": "markdown",
      "metadata": {
        "id": "BNONwiVpJL6o"
      },
      "source": [
        "`get_script_x_bias` and `get_p_x_bias` are helper functions which calculate $\\mathcal{X}$ and $p(x)$ respectively."
      ]
    },
    {
      "cell_type": "code",
      "execution_count": null,
      "metadata": {
        "colab": {
          "background_save": true
        },
        "id": "YG1VPQPtIX_-"
      },
      "outputs": [],
      "source": [
        "def get_script_x_bias(actual_vec, expected_vec):\n",
        "  \"\"\"\n",
        "  Calculates script_x, the sample space,\n",
        "   for a given actual vector and expected vector.\n",
        "  actual_vec: The vector that corresponds to the dataset we're evaluating.\n",
        "  expected_vec: The vector that we'd expect if the dataset wasn't biased.\n",
        "  \"\"\"\n",
        "  num_entries = np.sum(actual_vec)\n",
        "  num_categories = len(actual_vec)\n",
        "  return scipy.special.comb(num_entries+num_categories-1, num_categories-1)"
      ]
    },
    {
      "cell_type": "code",
      "execution_count": null,
      "metadata": {
        "colab": {
          "background_save": true
        },
        "id": "yGRiHYXKIiob"
      },
      "outputs": [],
      "source": [
        "def get_p_x_bias(actual_vec, expected_vec):\n",
        "  \"\"\"\n",
        "  Calculates p_x for a given actual vector and expected vector.\n",
        "  actual_vec: The vector that corresponds to the dataset we're evaluating.\n",
        "  expected_vec: The vector that we'd expect if the dataset wasn't biased.\n",
        "  \"\"\"\n",
        "  num_entries = np.sum(actual_vec)\n",
        "  num_categories = len(actual_vec)\n",
        "  hypothesis = [i/sum(expected_vec) for i in expected_vec]\n",
        "  return (mpf(math.factorial(num_entries)) / np.prod([mpf(math.factorial(x)) for x in actual_vec])) * np.prod([mpf(hypothesis[i])**mpf(int(actual_vec[i])) for i in range(len(actual_vec))])\n"
      ]
    },
    {
      "cell_type": "markdown",
      "metadata": {
        "id": "XwQnk7nGJWs-"
      },
      "source": [
        "### Experiments"
      ]
    },
    {
      "cell_type": "markdown",
      "metadata": {
        "id": "XCtPuPqkJvDl"
      },
      "source": [
        "Let's try an example."
      ]
    },
    {
      "cell_type": "code",
      "execution_count": null,
      "metadata": {
        "colab": {
          "background_save": true
        },
        "id": "_wqxKuBvFvvg",
        "outputId": "c96baae7-f85c-47fb-e455-2ae5f584c14b"
      },
      "outputs": [
        {
          "name": "stdout",
          "output_type": "stream",
          "text": [
            "sample size: 10000000\n",
            "mg_hat_x: 7505778\n",
            "fg_hat_x: 0.7505778\n",
            "nu_hat_x: 1.3323069240790228\n",
            "p_x: 4.85799124110438e-400\n",
            "\n",
            "Pr(SC(X) > SC(x)) <= 0.01\n",
            "\n"
          ]
        },
        {
          "data": {
            "text/plain": [
              "mpf('0.01')"
            ]
          },
          "execution_count": 17,
          "metadata": {},
          "output_type": "execute_result"
        }
      ],
      "source": [
        "actual_vec_bias = np.array([1623, 1705, 2479])\n",
        "expected_vec_bias = np.array([621, 1295, 3891])\n",
        "n_bias = 10_000_000\n",
        "\n",
        "mg_hat_bias = get_mg_bias(n_bias, actual_vec_bias, expected_vec_bias)\n",
        "script_x_bias = get_script_x_bias(actual_vec_bias, expected_vec_bias)\n",
        "p_x_bias = get_p_x_bias(actual_vec_bias, expected_vec_bias)\n",
        "\n",
        "compute_bound(n=n_bias, mg_hat_x=mg_hat_bias, script_x=script_x_bias, p_x=p_x_bias, delta=0.01, should_print=True)"
      ]
    },
    {
      "cell_type": "markdown",
      "metadata": {
        "id": "GhwIwfe7Ky_9"
      },
      "source": [
        "## Detecting Student Cheating"
      ]
    },
    {
      "cell_type": "markdown",
      "metadata": {
        "id": "n4_5JlUGKttJ"
      },
      "source": [
        "Now, let's try computing the bound for a scenario where we don't already know the real bound at all. In this scenario, we have a set of student scantrons and suspect that some group of students is cheating. To test our hypothesis, we compare a student to everyone who we think they've been cheating off of, and determine if the number of wrong answers that they got the same deviates significantly from the number of wrong answers that are expected to be the same due to randomness."
      ]
    },
    {
      "cell_type": "markdown",
      "metadata": {
        "id": "p5PJpQEuKMYH"
      },
      "source": [
        "### Functions"
      ]
    },
    {
      "cell_type": "markdown",
      "metadata": {
        "id": "jne1Km5kL3dN"
      },
      "source": [
        "We first give a general function that returns the bound for the scantron example, given the student who we believe is cheating, a suspect who we think they are cheating off of, and information about the size of the scantrons."
      ]
    },
    {
      "cell_type": "code",
      "execution_count": null,
      "metadata": {
        "id": "SS_AjdwCOLRF"
      },
      "outputs": [],
      "source": [
        "def compute_bound_scantron(n, x, suspect, answer_key, num_choices, num_questions, prob_correct=0.92, delta=0.01, should_print=True):\n",
        "  \"\"\"\n",
        "  n: Total number of samples\n",
        "  x: The student who we suspect is cheating\n",
        "  suspect: Student who we think that student x is cheating off of\n",
        "  answer_key: Answer key for the scantron\n",
        "  num_choices: Number of choices for each question\n",
        "    (e.g. 4 if we have A, B, C and D)\n",
        "  num_questions: Number of questions in the scantron.\n",
        "  prob_correct: The average percentage of questions that a typical student gets correct\n",
        "  delta: The delta parameter (see paper for more details)\n",
        "  should_print: Whether the function should print out values used in the calculation\n",
        "  \"\"\"\n",
        "  mg_scantron = get_mg_scantron(n, suspect, answer_key, num_choices, num_questions)\n",
        "  script_x_scantron = get_script_x_scantron(num_choices, num_questions)\n",
        "  p_x_scantron = get_p_x_scantron(answer_key, x, prob_correct, num_choices)\n",
        "  return compute_bound(n, mg_scantron, script_x_scantron, p_x_scantron, delta=delta, should_print=should_print)"
      ]
    },
    {
      "cell_type": "code",
      "execution_count": null,
      "metadata": {
        "id": "Pdt3lT5oLJ7C"
      },
      "outputs": [],
      "source": [
        "def get_mg_scantron(n, suspect, answer_key, num_choices, num_questions):\n",
        "  \"\"\"\n",
        "  n: Total number of samples\n",
        "  suspect: Student who we think that student x is cheating off of\n",
        "  answer_key: Answer key for the scantron\n",
        "  num_choices: Number of choices for each question\n",
        "    (e.g. 4 if we have A, B, C and D)\n",
        "  num_questions: Number of questions in the scantron.\n",
        "  \"\"\"\n",
        "  mg_hat_x = 0\n",
        "  g_x = get_g_x_scantron(answer_key, suspect, x, num_choices)\n",
        "  for i in range(n):\n",
        "    sample = np.random.choice(['A', 'B', 'C', 'D', 'E'][:num_choices], num_questions)\n",
        "    sample_g_x = get_g_x_scantron(answer_key, suspect, sample, num_choices)\n",
        "    if sample_g_x >= g_x:\n",
        "      mg_hat_x += 1\n",
        "  if mg_hat_x == 0:\n",
        "    mg_hat_x = 1#e-3\n",
        "  return mg_hat_x"
      ]
    },
    {
      "cell_type": "code",
      "execution_count": null,
      "metadata": {
        "id": "1NWL4RleKz09"
      },
      "outputs": [],
      "source": [
        "def get_g_x_scantron(key, student1, student2, num_choices):\n",
        "  \"\"\"\n",
        "  Calculates g(x) for a scantron example.\n",
        "  key: A numpy array representing the answer key\n",
        "  student1: A numpy array represneting the scantron for the first student\n",
        "  student2: A numpy array represneting the scantron for the second student\n",
        "  num_choices: The number of answer choices for each question on the scantron.\n",
        "  \"\"\"\n",
        "  key, student1, student2 = np.array(key), np.array(student1), np.array(student2)\n",
        "  both_wrong = np.logical_and(student1 != key, student2 != key)\n",
        "  num_both_wrong = np.sum(both_wrong)\n",
        "  same_answers = student1 == student2\n",
        "  num_same_wrong = np.sum(np.logical_and(both_wrong, same_answers))\n",
        "  return num_same_wrong - num_both_wrong / num_choices"
      ]
    },
    {
      "cell_type": "code",
      "execution_count": null,
      "metadata": {
        "id": "ri2xVAZoLi7n"
      },
      "outputs": [],
      "source": [
        "def get_script_x_scantron(num_choices, num_questions):\n",
        "  \"\"\"\n",
        "  Calculates script x, for a scantron example.\n",
        "  num_choices: The number of answer choices for each question on the scantron.\n",
        "  num_questions: Number of questions in the scantron.\n",
        "  \"\"\"\n",
        "  return float(num_choices ** num_questions)"
      ]
    },
    {
      "cell_type": "code",
      "execution_count": null,
      "metadata": {
        "id": "CTjDYJ8_tR1i"
      },
      "outputs": [],
      "source": [
        "def get_p_x_scantron(key, x, prob_correct, num_choices):\n",
        "  \"\"\"\n",
        "  Calculates p(x) for a scantron example.\n",
        "  key: A numpy array representing the answer key\n",
        "  x: A numpy array represneting the scantron for the student who we believe is cheating.\n",
        "  prob_correct: Probability of answering a single question correctly.\n",
        "  num_questions: Number of questions in the scantron.\n",
        "  \"\"\"\n",
        "  num_wrong = sum(np.array(key) != np.array(x))\n",
        "  num_correct = sum(np.array(key) == np.array(x))\n",
        "  return (prob_correct ** num_correct) * ((1 - prob_correct)/(num_choices - 1)) ** num_wrong"
      ]
    },
    {
      "cell_type": "code",
      "execution_count": null,
      "metadata": {
        "id": "BJ8r0TF8v9YG"
      },
      "outputs": [],
      "source": [
        "def compute_bound_scantron_group(n, x, suspects, answer_key, num_choices, num_questions, prob_correct=0.92, delta=0.01, should_print=True):\n",
        "  \"\"\"\n",
        "  Same as compute_bound_scantron, but computes the bound when we suspect that\n",
        "  the student is cheating off of multiple other students, as opposed to just one.\n",
        "  suspects: Same as compute_bound, but with a list of suspects instead of just one.\n",
        "  \"\"\"\n",
        "  bound = 0\n",
        "  for suspect in suspects:\n",
        "    bound += compute_bound_scantron(n, x, suspect, answer_key, num_choices, num_questions, prob_correct=prob_correct, delta=delta, should_print=should_print)\n",
        "  if should_print:\n",
        "    print(f\"Final bound is {bound}\")\n",
        "  return bound"
      ]
    },
    {
      "cell_type": "markdown",
      "metadata": {
        "id": "MCnbUVt1KKtm"
      },
      "source": [
        "### Experiments"
      ]
    },
    {
      "cell_type": "markdown",
      "metadata": {
        "id": "uQgh2mHtQdTR"
      },
      "source": [
        "Let's try a few examples. In this example, we have a 20 question scantron where each question has 4 choices, A, B, C and D. Both the student and the person who we suspected they cheated off of have the same exact scantron, and therefore get the same 10 questions wrong.\n",
        "\n"
      ]
    },
    {
      "cell_type": "code",
      "execution_count": null,
      "metadata": {
        "colab": {
          "base_uri": "https://localhost:8080/"
        },
        "id": "hlzhdqefOccR",
        "outputId": "f6e7196e-e895-4319-9a3b-cc5302eeb405"
      },
      "outputs": [
        {
          "name": "stdout",
          "output_type": "stream",
          "text": [
            "sample size: 1000\n",
            "mg_hat_x: 1\n",
            "fg_hat_x: 0.001\n",
            "nu_hat_x: 1000.0\n",
            "p_x: 7.898881457139347e-17\n",
            "\n",
            "Pr(SC(X) > SC(x)) <= 0.010103061339286032\n",
            "\n"
          ]
        },
        {
          "data": {
            "text/plain": [
              "0.010103061339286032"
            ]
          },
          "execution_count": 9,
          "metadata": {},
          "output_type": "execute_result"
        }
      ],
      "source": [
        "n_scantron = 1000\n",
        "num_questions = 20\n",
        "num_choices = 4\n",
        "x = ['A'] * 10 + ['B'] * 10\n",
        "suspect = x\n",
        "answer_key = ['A'] * num_questions\n",
        "\n",
        "compute_bound_scantron(n_scantron, x, suspect, answer_key, num_choices, num_questions)"
      ]
    },
    {
      "cell_type": "markdown",
      "metadata": {
        "id": "SL3m5B-kKS1i"
      },
      "source": [
        "In this second more extreme example, we have a 50 question scantron, and both the student and person who we suspect they cheated off of have the get all 50 questions wrong in the same way."
      ]
    },
    {
      "cell_type": "code",
      "execution_count": null,
      "metadata": {
        "colab": {
          "base_uri": "https://localhost:8080/"
        },
        "id": "MdLYazsqO5AY",
        "outputId": "aea90099-7443-4fa4-9bdd-266653f817d8"
      },
      "outputs": [
        {
          "name": "stdout",
          "output_type": "stream",
          "text": [
            "sample size: 100000\n",
            "mg_hat_x: 1\n",
            "fg_hat_x: 1e-05\n",
            "nu_hat_x: 100000.0\n",
            "p_x: 1.4272476927059242e-55\n",
            "\n",
            "Pr(SC(X) > SC(x)) <= 0.01\n",
            "\n"
          ]
        },
        {
          "data": {
            "text/plain": [
              "0.01"
            ]
          },
          "execution_count": 10,
          "metadata": {},
          "output_type": "execute_result"
        }
      ],
      "source": [
        "answer_key = ['A'] * 50\n",
        "x = ['B'] * 50\n",
        "suspect = x\n",
        "compute_bound_scantron(100000, x, suspect, answer_key, num_choices=2, num_questions=50)"
      ]
    },
    {
      "cell_type": "code",
      "execution_count": null,
      "metadata": {
        "colab": {
          "base_uri": "https://localhost:8080/"
        },
        "id": "mECpb-124TgO",
        "outputId": "474f94de-efe2-4e2b-a2e2-2d5406f3b285"
      },
      "outputs": [
        {
          "name": "stdout",
          "output_type": "stream",
          "text": [
            "sample size: 10000000\n",
            "mg_hat_x: 1\n",
            "fg_hat_x: 1e-07\n",
            "nu_hat_x: 10000000.0\n",
            "p_x: 8.594779388231022e-36\n",
            "\n",
            "Pr(SC(X) > SC(x)) <= 0.03508254912414265\n",
            "\n"
          ]
        },
        {
          "data": {
            "text/plain": [
              "0.03508254912414265"
            ]
          },
          "execution_count": 11,
          "metadata": {},
          "output_type": "execute_result"
        }
      ],
      "source": [
        "answer_key = ['A'] * 50\n",
        "x = ['A'] * 30 + ['B'] * 20\n",
        "suspect1 = x\n",
        "\n",
        "compute_bound_scantron(10_000_000, x, suspect1, answer_key, num_choices=5, num_questions=50)"
      ]
    },
    {
      "cell_type": "code",
      "execution_count": null,
      "metadata": {
        "colab": {
          "background_save": true,
          "base_uri": "https://localhost:8080/"
        },
        "id": "ZOxe4NA74r_9",
        "outputId": "df5bb3c2-f508-4cad-a842-cc62ea4ab7ff"
      },
      "outputs": [
        {
          "name": "stdout",
          "output_type": "stream",
          "text": [
            "sample size: 10000000\n",
            "mg_hat_x: 3\n",
            "fg_hat_x: 3e-07\n",
            "nu_hat_x: 3333333.3333333335\n",
            "p_x: 8.594779388231022e-36\n",
            "\n",
            "Pr(SC(X) > SC(x)) <= 0.035094863374020534\n",
            "\n",
            "sample size: 10000000\n",
            "mg_hat_x: 1\n",
            "fg_hat_x: 1e-07\n",
            "nu_hat_x: 10000000.0\n",
            "p_x: 8.594779388231022e-36\n",
            "\n",
            "Pr(SC(X) > SC(x)) <= 0.03508254912414265\n",
            "\n",
            "Final bound is 0.07017741249816319\n"
          ]
        },
        {
          "data": {
            "text/plain": [
              "0.07017741249816319"
            ]
          },
          "execution_count": 12,
          "metadata": {},
          "output_type": "execute_result"
        }
      ],
      "source": [
        "answer_key = ['A'] * 50\n",
        "x = ['A'] * 30 + ['B'] * 20\n",
        "suspect1 = ['A'] * 30 + ['B'] * 15 + ['C'] * 5\n",
        "suspect2 = x\n",
        "\n",
        "compute_bound_scantron_group(10_000_000, x, [suspect1, suspect2], answer_key, num_choices=5, num_questions=50)"
      ]
    }
  ],
  "metadata": {
    "colab": {
      "collapsed_sections": [
        "DGaqxthD-5Kn",
        "lkIoqBGk-7vO",
        "vhR8taAT4lHs",
        "ZNlV-_vE4o5q",
        "hPXg-O1N4uXI",
        "HPQ7UScQKPHF",
        "XwQnk7nGJWs-"
      ],
      "provenance": []
    },
    "kernelspec": {
      "display_name": "Python 3",
      "name": "python3"
    },
    "language_info": {
      "name": "python"
    }
  },
  "nbformat": 4,
  "nbformat_minor": 0
}